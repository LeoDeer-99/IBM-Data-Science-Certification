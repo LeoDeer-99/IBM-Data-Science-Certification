{
 "cells": [
  {
   "cell_type": "markdown",
   "metadata": {
    "collapsed": true
   },
   "source": [
    "# My Jupyter Notebook on IBM Watson Studio"
   ]
  },
  {
   "cell_type": "markdown",
   "metadata": {},
   "source": [
    "**Leo Deer**\n",
    "\n",
    "Aspiring Data Scientist"
   ]
  },
  {
   "cell_type": "markdown",
   "metadata": {},
   "source": [
    "*I'm interested in data science because I want to understand the world and using models to understand it works alright.*"
   ]
  },
  {
   "cell_type": "markdown",
   "metadata": {},
   "source": [
    "### The following code prints the first ten digits of number. In this case, I chose $\\phi$-the golden ration"
   ]
  },
  {
   "cell_type": "code",
   "execution_count": 36,
   "metadata": {},
   "outputs": [
    {
     "name": "stdout",
     "output_type": "stream",
     "text": [
      "1\n",
      "6\n",
      "1\n",
      "8\n",
      "0\n",
      "3\n",
      "3\n",
      "9\n",
      "8\n",
      "8\n"
     ]
    }
   ],
   "source": [
    "import math\n",
    "\n",
    "number = (1+math.sqrt(5))/2 #phi\n",
    "digits = 10\n",
    "\n",
    "# ensures we have no decimal place in our number\n",
    "new_number = number*10**digits\n",
    "number_truncate = (math.trunc(new_number))\n",
    "\n",
    "# creates list of digits\n",
    "array = [int(x) for x in str(number_truncate)]  \n",
    "\n",
    "# prints list of digits\n",
    "for i in range(digits):\n",
    "    print(array[i])\n",
    "    "
   ]
  },
  {
   "cell_type": "markdown",
   "metadata": {},
   "source": [
    "_________\n",
    "\n",
    "# Now let's get serious\n",
    "**Here's a list of some good albums (no particular order)**\n",
    "\n",
    "1) Merriweather Post Pavilion - Animal Collective\n",
    "\n",
    "2) Vespertine - Björk\n",
    "\n",
    "3) Geogaddi - Boards of Canada\n",
    "\n",
    "4) Purple Mountains\n",
    "\n",
    "5) Highway 61 Revisited - Bob Dylan\n",
    "\n",
    "6) ~~OK Orchestra - AJR~~ &larr; no."
   ]
  }
 ],
 "metadata": {
  "kernelspec": {
   "display_name": "Python 3 (ipykernel)",
   "language": "python",
   "name": "python3"
  },
  "language_info": {
   "codemirror_mode": {
    "name": "ipython",
    "version": 3
   },
   "file_extension": ".py",
   "mimetype": "text/x-python",
   "name": "python",
   "nbconvert_exporter": "python",
   "pygments_lexer": "ipython3",
   "version": "3.11.0"
  }
 },
 "nbformat": 4,
 "nbformat_minor": 1
}
